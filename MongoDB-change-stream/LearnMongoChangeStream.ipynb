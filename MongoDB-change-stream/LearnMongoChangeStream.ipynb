{
 "cells": [
  {
   "cell_type": "code",
   "execution_count": 58,
   "id": "b68651c6",
   "metadata": {},
   "outputs": [],
   "source": [
    "import pymongo\n",
    "from pymongo import MongoClient \n",
    "import datetime\n",
    "import os"
   ]
  },
  {
   "cell_type": "code",
   "execution_count": 66,
   "id": "155a41ae",
   "metadata": {},
   "outputs": [],
   "source": [
    "client = MongoClient(\"mongodb+srv://<username>:<pass>@irfndcluster.dhjmc.mongodb.net/irfanDB?retryWrites=true&w=majority\")"
   ]
  },
  {
   "cell_type": "code",
   "execution_count": 104,
   "id": "414dd0ea",
   "metadata": {},
   "outputs": [
    {
     "name": "stdout",
     "output_type": "stream",
     "text": [
      "['sample_airbnb', 'sample_analytics', 'sample_geospatial', 'sample_mflix', 'sample_restaurants', 'sample_supplies', 'sample_training', 'sample_weatherdata', 'admin', 'local']\n"
     ]
    }
   ],
   "source": [
    "print(client.list_database_names())"
   ]
  },
  {
   "cell_type": "code",
   "execution_count": 105,
   "id": "ee12be3a",
   "metadata": {},
   "outputs": [
    {
     "name": "stdout",
     "output_type": "stream",
     "text": [
      "[]\n"
     ]
    }
   ],
   "source": [
    "print(client['irfanDB'].list_collection_names())"
   ]
  },
  {
   "cell_type": "code",
   "execution_count": 84,
   "id": "b307e4ec",
   "metadata": {},
   "outputs": [
    {
     "data": {
      "text/plain": [
       "Collection(Database(MongoClient(host=['irfndcluster-shard-00-00.dhjmc.mongodb.net:27017', 'irfndcluster-shard-00-01.dhjmc.mongodb.net:27017', 'irfndcluster-shard-00-02.dhjmc.mongodb.net:27017'], document_class=dict, tz_aware=False, connect=True, retrywrites=True, w='majority', authsource='admin', replicaset='atlas-rtywzb-shard-0', ssl=True), 'irfanDB'), 'irfanCollection')"
      ]
     },
     "execution_count": 84,
     "metadata": {},
     "output_type": "execute_result"
    }
   ],
   "source": [
    "dbCol = client.irfanDB.irfanCollection\n",
    "dbCol"
   ]
  },
  {
   "cell_type": "code",
   "execution_count": 85,
   "id": "3dee6297",
   "metadata": {},
   "outputs": [],
   "source": [
    "mydict = {\n",
    "    \"name\":\"John\",\n",
    "    \"address\":\"Pamulang\",\n",
    "    \"phoneno\":\"123\"\n",
    "}"
   ]
  },
  {
   "cell_type": "code",
   "execution_count": 86,
   "id": "5f248c94",
   "metadata": {},
   "outputs": [],
   "source": [
    "result = dbCol.insert_one(mydict)"
   ]
  },
  {
   "cell_type": "code",
   "execution_count": 103,
   "id": "69349f61",
   "metadata": {},
   "outputs": [
    {
     "name": "stdout",
     "output_type": "stream",
     "text": [
      "{'_id': ObjectId('60db412324cb5566f147506b'), 'name': 'John', 'address': 'Pamulang', 'phoneno': '123'}\n",
      "{'_id': ObjectId('60db49da386805b97635ae12'), 'name': 'John', 'address': 'Pamulang', 'phoneno': '123'}\n",
      "{'_id': ObjectId('60db49f4386805b97635ae14'), 'name': 'John Doe', 'address': 'Paulo', 'phoneno': '123'}\n",
      "{'_id': ObjectId('60db4b1cab81effbdafba921'), 'name': 'Janinsen', 'address': 'Paulo', 'phoneno': '123'}\n",
      "{'_id': ObjectId('60db4b2d93e669f93a3f5a2c'), 'name': 'Janinsen', 'address': 'Paulo', 'phoneno': '123'}\n"
     ]
    },
    {
     "data": {
      "text/plain": [
       "[None, None, None, None, None]"
      ]
     },
     "execution_count": 103,
     "metadata": {},
     "output_type": "execute_result"
    }
   ],
   "source": [
    "[print(x) for x in dbCol.find()]"
   ]
  },
  {
   "cell_type": "code",
   "execution_count": 93,
   "id": "7d2e4f6c",
   "metadata": {},
   "outputs": [
    {
     "ename": "NameError",
     "evalue": "name 'dumps' is not defined",
     "output_type": "error",
     "traceback": [
      "\u001b[1;31m---------------------------------------------------------------------------\u001b[0m",
      "\u001b[1;31mNameError\u001b[0m                                 Traceback (most recent call last)",
      "\u001b[1;32m<ipython-input-93-d8b965efc9ff>\u001b[0m in \u001b[0;36m<module>\u001b[1;34m\u001b[0m\n\u001b[0;32m      1\u001b[0m \u001b[0mchange_stream\u001b[0m \u001b[1;33m=\u001b[0m \u001b[0mclient\u001b[0m\u001b[1;33m.\u001b[0m\u001b[0mirfanDB\u001b[0m\u001b[1;33m.\u001b[0m\u001b[0mirfanCollection\u001b[0m\u001b[1;33m.\u001b[0m\u001b[0mwatch\u001b[0m\u001b[1;33m(\u001b[0m\u001b[1;33m)\u001b[0m\u001b[1;33m\u001b[0m\u001b[1;33m\u001b[0m\u001b[0m\n\u001b[0;32m      2\u001b[0m \u001b[1;32mfor\u001b[0m \u001b[0mchange\u001b[0m \u001b[1;32min\u001b[0m \u001b[0mchange_stream\u001b[0m\u001b[1;33m:\u001b[0m\u001b[1;33m\u001b[0m\u001b[1;33m\u001b[0m\u001b[0m\n\u001b[1;32m----> 3\u001b[1;33m     \u001b[0mprint\u001b[0m\u001b[1;33m(\u001b[0m\u001b[0mdumps\u001b[0m\u001b[1;33m(\u001b[0m\u001b[0mchange\u001b[0m\u001b[1;33m)\u001b[0m\u001b[1;33m)\u001b[0m\u001b[1;33m\u001b[0m\u001b[1;33m\u001b[0m\u001b[0m\n\u001b[0m\u001b[0;32m      4\u001b[0m     \u001b[0mprint\u001b[0m\u001b[1;33m(\u001b[0m\u001b[1;34m''\u001b[0m\u001b[1;33m)\u001b[0m \u001b[1;31m# for readability only\u001b[0m\u001b[1;33m\u001b[0m\u001b[1;33m\u001b[0m\u001b[0m\n",
      "\u001b[1;31mNameError\u001b[0m: name 'dumps' is not defined"
     ]
    }
   ],
   "source": [
    "change_stream = client.irfanDB.irfanCollection.watch()\n",
    "for change in change_stream:\n",
    "    print(dumps(change))\n",
    "    print('') # for readability only"
   ]
  },
  {
   "cell_type": "code",
   "execution_count": null,
   "id": "e4c7cdcc",
   "metadata": {},
   "outputs": [],
   "source": [
    "change_stream"
   ]
  },
  {
   "cell_type": "code",
   "execution_count": null,
   "id": "0d400a9f",
   "metadata": {},
   "outputs": [],
   "source": []
  }
 ],
 "metadata": {
  "kernelspec": {
   "display_name": "Python 3",
   "language": "python",
   "name": "python3"
  },
  "language_info": {
   "codemirror_mode": {
    "name": "ipython",
    "version": 3
   },
   "file_extension": ".py",
   "mimetype": "text/x-python",
   "name": "python",
   "nbconvert_exporter": "python",
   "pygments_lexer": "ipython3",
   "version": "3.8.10"
  }
 },
 "nbformat": 4,
 "nbformat_minor": 5
}
